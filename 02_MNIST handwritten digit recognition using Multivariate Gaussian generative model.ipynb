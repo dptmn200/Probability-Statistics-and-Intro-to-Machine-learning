{
 "cells": [
  {
   "cell_type": "markdown",
   "metadata": {},
   "source": [
    "Question 9: Handwritten digit recognition using a Gaussian Generative Model\n",
    "\n",
    "The solution has the following parts:\n",
    "\n",
    "1. Load the data\n",
    "2. Prepare the data by splitting the train data into training set and validation set\n",
    "3. Create a classifier routine using multinomial_normal function\n",
    "4. Iterate over several smoothing factor to land at the best smoothing factor on the validation set\n",
    "5. Apply the best smoothing factor on the test data set and calculate the accuracy\n",
    "6. Display a few misclassified digits and their posterior probabilities\n"
   ]
  },
  {
   "cell_type": "code",
   "execution_count": 1,
   "metadata": {
    "collapsed": false
   },
   "outputs": [
    {
     "name": "stdout",
     "output_type": "stream",
     "text": [
      "/Users/Deepthi/Documents/DSE/DSE210 - Statistics and Probability/Day 3/Assignment/Data\n"
     ]
    }
   ],
   "source": [
    "%cd /Users/Deepthi/Documents/DSE/DSE210 - Statistics and Probability/Day 3/Assignment/Data"
   ]
  },
  {
   "cell_type": "code",
   "execution_count": 29,
   "metadata": {
    "collapsed": false
   },
   "outputs": [],
   "source": [
    "# Import the required libraries\n",
    "from struct import unpack\n",
    "import numpy as np\n",
    "import matplotlib.pyplot as plt \n",
    "%matplotlib inline\n",
    "import pandas as pd\n",
    "from sklearn.cross_validation import train_test_split;\n",
    "import math \n",
    "from scipy.stats import multivariate_normal"
   ]
  },
  {
   "cell_type": "markdown",
   "metadata": {},
   "source": [
    "### Load the data"
   ]
  },
  {
   "cell_type": "code",
   "execution_count": 36,
   "metadata": {
    "collapsed": true
   },
   "outputs": [],
   "source": [
    "# The functions used to import the data and display the digits\n",
    "\n",
    "# %load loader.py\n",
    "def loadmnist(imagefile, labelfile):\n",
    "\n",
    "    # Open the images with gzip in read binary mode\n",
    "    images = open(imagefile, 'rb')\n",
    "    labels = open(labelfile, 'rb')\n",
    "\n",
    "    # Get metadata for images\n",
    "    images.read(4)  # skip the magic_number\n",
    "    number_of_images = images.read(4)\n",
    "    number_of_images = unpack('>I', number_of_images)[0]\n",
    "    rows = images.read(4)\n",
    "    rows = unpack('>I', rows)[0]\n",
    "    cols = images.read(4)\n",
    "    cols = unpack('>I', cols)[0]\n",
    "\n",
    "    # Get metadata for labels\n",
    "    labels.read(4)\n",
    "    N = labels.read(4)\n",
    "    N = unpack('>I', N)[0]\n",
    "\n",
    "    # Get data\n",
    "    x = np.zeros((N, rows*cols), dtype=np.uint8)  # Initialize numpy array\n",
    "    y = np.zeros(N, dtype=np.uint8)  # Initialize numpy array\n",
    "    for i in range(N):\n",
    "        for j in range(rows*cols):\n",
    "            tmp_pixel = images.read(1)  # Just a single byte\n",
    "            tmp_pixel = unpack('>B', tmp_pixel)[0]\n",
    "            x[i][j] = tmp_pixel\n",
    "        tmp_label = labels.read(1)\n",
    "        y[i] = unpack('>B', tmp_label)[0]\n",
    "\n",
    "    images.close()\n",
    "    labels.close()\n",
    "    return (x, y)\n",
    "\n",
    "def displaychar(image):\n",
    "    plt.imshow(np.reshape(image, (28,28)), cmap=plt.cm.gray)\n",
    "    plt.axis('off')\n",
    "#     plt.show()"
   ]
  },
  {
   "cell_type": "code",
   "execution_count": 4,
   "metadata": {
    "collapsed": false
   },
   "outputs": [],
   "source": [
    "# Import the data\n",
    "train_images, train_labels = loadmnist('train-images-idx3-ubyte','train-labels-idx1-ubyte')\n",
    "test_images, test_labels = loadmnist('t10k-images-idx3-ubyte','t10k-labels-idx1-ubyte')"
   ]
  },
  {
   "cell_type": "markdown",
   "metadata": {},
   "source": [
    "### Prepare the data by splitting the train data into training set and validation set"
   ]
  },
  {
   "cell_type": "code",
   "execution_count": 5,
   "metadata": {
    "collapsed": true
   },
   "outputs": [],
   "source": [
    "# Split the train data into train and validation sets\n",
    "train_set,validation_set, train_label, validation_label = train_test_split(train_images,train_labels, test_size=10000, random_state=4)"
   ]
  },
  {
   "cell_type": "code",
   "execution_count": 10,
   "metadata": {
    "collapsed": false
   },
   "outputs": [
    {
     "data": {
      "text/plain": [
       "(5632, 784)"
      ]
     },
     "execution_count": 10,
     "metadata": {},
     "output_type": "execute_result"
    }
   ],
   "source": [
    "np.shape(train_set[np.where(train_label==1)])"
   ]
  },
  {
   "cell_type": "code",
   "execution_count": 11,
   "metadata": {
    "collapsed": false
   },
   "outputs": [
    {
     "data": {
      "text/plain": [
       "(50000, 784)"
      ]
     },
     "execution_count": 11,
     "metadata": {},
     "output_type": "execute_result"
    }
   ],
   "source": [
    "np.shape(train_set)"
   ]
  },
  {
   "cell_type": "code",
   "execution_count": 12,
   "metadata": {
    "collapsed": false
   },
   "outputs": [
    {
     "data": {
      "text/plain": [
       "(50000,)"
      ]
     },
     "execution_count": 12,
     "metadata": {},
     "output_type": "execute_result"
    }
   ],
   "source": [
    "np.shape(train_label)"
   ]
  },
  {
   "cell_type": "code",
   "execution_count": 14,
   "metadata": {
    "collapsed": false
   },
   "outputs": [
    {
     "data": {
      "text/plain": [
       "numpy.ndarray"
      ]
     },
     "execution_count": 14,
     "metadata": {},
     "output_type": "execute_result"
    }
   ],
   "source": [
    "type(train_label)"
   ]
  },
  {
   "cell_type": "markdown",
   "metadata": {},
   "source": [
    "### Create a classifier routine using multinomial_normal function"
   ]
  },
  {
   "cell_type": "code",
   "execution_count": 6,
   "metadata": {
    "collapsed": true
   },
   "outputs": [],
   "source": [
    "# Create a function to determine the clas probabilities, calculate mean and cov and fit a gaussian\n",
    "def classifier(c,data_set,label_set):\n",
    "    label = []\n",
    "    pd = []\n",
    "    for i in range(0,10):\n",
    "        priors = len(train_set[np.where(train_label==i)])/float(len(train_set))\n",
    "        Mean = train_set[np.where(train_label==i)].mean(0)\n",
    "        Cov = np.cov((train_set[np.where(train_label==i)]).T)\n",
    "        Cov = Cov + (c*np.identity(784))\n",
    "        px = multivariate_normal(mean=Mean, cov=Cov) \n",
    "        pd.append(np.log(priors) + px.logpdf(data_set))\n",
    "    max_prob = np.argmax(pd, axis = 0)\n",
    "    error = np.sum([i!=j for i,j in zip(max_prob, label_set)])*100/(len(label_set)*1.0)\n",
    "    accuracy = 100- (np.sum([i!=j for i,j in zip(max_prob, label_set)])*100/(len(label_set)*1.0))\n",
    "    return c, error, accuracy"
   ]
  },
  {
   "cell_type": "markdown",
   "metadata": {},
   "source": [
    "### Iterate over several smoothing factor to land at the best smoothing factor on the validation set\n",
    "\n",
    "To obtain optimum smoothing factor:\n",
    "\n",
    "1. First try in steps of 1000 to determine the most optimum zone (The zone in which you achieve best accuracy)\n",
    "2. Repeat the same in steps of 100, 10 and then 1 to land on the most optimum smoothing value"
   ]
  },
  {
   "cell_type": "code",
   "execution_count": 7,
   "metadata": {
    "collapsed": false
   },
   "outputs": [
    {
     "name": "stdout",
     "output_type": "stream",
     "text": [
      "(1000, 5.3399999999999999, 94.659999999999997)\n",
      "(2000, 4.8799999999999999, 95.120000000000005)\n",
      "(3000, 4.8499999999999996, 95.150000000000006)\n",
      "(4000, 5.04, 94.959999999999994)\n",
      "(5000, 5.0499999999999998, 94.950000000000003)\n",
      "(6000, 5.1100000000000003, 94.890000000000001)\n",
      "(7000, 5.2000000000000002, 94.799999999999997)\n",
      "(8000, 5.2599999999999998, 94.739999999999995)\n",
      "(9000, 5.4000000000000004, 94.599999999999994)\n",
      "(10000, 5.5800000000000001, 94.420000000000002)\n",
      "(11000, 5.7699999999999996, 94.230000000000004)\n",
      "(12000, 6.0300000000000002, 93.969999999999999)\n",
      "(13000, 6.1399999999999997, 93.859999999999999)\n",
      "(14000, 6.2400000000000002, 93.760000000000005)\n"
     ]
    }
   ],
   "source": [
    "# Go in steps of 1000 from 1000 to 15000:\n",
    "for c in np.arange(1000,15000,1000):\n",
    "    print classifier(c,validation_set, validation_label)"
   ]
  },
  {
   "cell_type": "code",
   "execution_count": 8,
   "metadata": {
    "collapsed": false
   },
   "outputs": [
    {
     "name": "stdout",
     "output_type": "stream",
     "text": [
      "(2000, 4.8799999999999999, 95.120000000000005)\n",
      "(2100, 4.8499999999999996, 95.150000000000006)\n",
      "(2200, 4.8600000000000003, 95.140000000000001)\n",
      "(2300, 4.8499999999999996, 95.150000000000006)\n",
      "(2400, 4.8600000000000003, 95.140000000000001)\n",
      "(2500, 4.8499999999999996, 95.150000000000006)\n",
      "(2600, 4.8300000000000001, 95.170000000000002)\n",
      "(2700, 4.8399999999999999, 95.159999999999997)\n",
      "(2800, 4.8700000000000001, 95.129999999999995)\n",
      "(2900, 4.8300000000000001, 95.170000000000002)\n",
      "(3000, 4.8499999999999996, 95.150000000000006)\n",
      "(3100, 4.8700000000000001, 95.129999999999995)\n",
      "(3200, 4.9199999999999999, 95.079999999999998)\n",
      "(3300, 4.9500000000000002, 95.049999999999997)\n",
      "(3400, 4.96, 95.040000000000006)\n",
      "(3500, 4.9400000000000004, 95.060000000000002)\n",
      "(3600, 4.9900000000000002, 95.010000000000005)\n",
      "(3700, 5.0099999999999998, 94.989999999999995)\n",
      "(3800, 5.0499999999999998, 94.950000000000003)\n",
      "(3900, 5.0300000000000002, 94.969999999999999)\n"
     ]
    }
   ],
   "source": [
    "## Consider 2000 to 4000 in steps of 100\n",
    "for c in np.arange(2000,4000,100):\n",
    "    print classifier(c,validation_set, validation_label)"
   ]
  },
  {
   "cell_type": "code",
   "execution_count": 11,
   "metadata": {
    "collapsed": false
   },
   "outputs": [
    {
     "name": "stdout",
     "output_type": "stream",
     "text": [
      "(2500, 4.8499999999999996, 95.150000000000006)\n",
      "(2510, 4.8499999999999996, 95.150000000000006)\n",
      "(2520, 4.8600000000000003, 95.140000000000001)\n",
      "(2530, 4.8499999999999996, 95.150000000000006)\n",
      "(2540, 4.8499999999999996, 95.150000000000006)\n",
      "(2550, 4.8499999999999996, 95.150000000000006)\n",
      "(2560, 4.8399999999999999, 95.159999999999997)\n",
      "(2570, 4.8399999999999999, 95.159999999999997)\n",
      "(2580, 4.8399999999999999, 95.159999999999997)\n",
      "(2590, 4.8300000000000001, 95.170000000000002)\n",
      "(2600, 4.8300000000000001, 95.170000000000002)\n",
      "(2610, 4.8300000000000001, 95.170000000000002)\n",
      "(2620, 4.8200000000000003, 95.180000000000007)\n",
      "(2630, 4.8200000000000003, 95.180000000000007)\n",
      "(2640, 4.8200000000000003, 95.180000000000007)\n",
      "(2650, 4.8200000000000003, 95.180000000000007)\n",
      "(2660, 4.8300000000000001, 95.170000000000002)\n",
      "(2670, 4.8399999999999999, 95.159999999999997)\n",
      "(2680, 4.8399999999999999, 95.159999999999997)\n",
      "(2690, 4.8399999999999999, 95.159999999999997)\n"
     ]
    }
   ],
   "source": [
    "## Consider 2500 to 2700 in steps of 10\n",
    "for c in np.arange(2500,2700,10):\n",
    "    print classifier(c,validation_set, validation_label)"
   ]
  },
  {
   "cell_type": "code",
   "execution_count": 12,
   "metadata": {
    "collapsed": false,
    "scrolled": true
   },
   "outputs": [
    {
     "name": "stdout",
     "output_type": "stream",
     "text": [
      "(2610, 4.8300000000000001, 95.170000000000002)\n",
      "(2611, 4.8300000000000001, 95.170000000000002)\n",
      "(2612, 4.8300000000000001, 95.170000000000002)\n",
      "(2613, 4.8200000000000003, 95.180000000000007)\n",
      "(2614, 4.8200000000000003, 95.180000000000007)\n",
      "(2615, 4.8200000000000003, 95.180000000000007)\n",
      "(2616, 4.8200000000000003, 95.180000000000007)\n",
      "(2617, 4.8200000000000003, 95.180000000000007)\n",
      "(2618, 4.8200000000000003, 95.180000000000007)\n",
      "(2619, 4.8200000000000003, 95.180000000000007)\n",
      "(2620, 4.8200000000000003, 95.180000000000007)\n",
      "(2621, 4.8200000000000003, 95.180000000000007)\n",
      "(2622, 4.8200000000000003, 95.180000000000007)\n",
      "(2623, 4.8200000000000003, 95.180000000000007)\n",
      "(2624, 4.8200000000000003, 95.180000000000007)\n",
      "(2625, 4.8200000000000003, 95.180000000000007)\n",
      "(2626, 4.8200000000000003, 95.180000000000007)\n",
      "(2627, 4.8200000000000003, 95.180000000000007)\n",
      "(2628, 4.8200000000000003, 95.180000000000007)\n",
      "(2629, 4.8200000000000003, 95.180000000000007)\n",
      "(2630, 4.8200000000000003, 95.180000000000007)\n",
      "(2631, 4.8200000000000003, 95.180000000000007)\n",
      "(2632, 4.8200000000000003, 95.180000000000007)\n",
      "(2633, 4.8200000000000003, 95.180000000000007)\n",
      "(2634, 4.8200000000000003, 95.180000000000007)\n",
      "(2635, 4.8200000000000003, 95.180000000000007)\n",
      "(2636, 4.8200000000000003, 95.180000000000007)\n",
      "(2637, 4.8200000000000003, 95.180000000000007)\n",
      "(2638, 4.8200000000000003, 95.180000000000007)\n",
      "(2639, 4.8200000000000003, 95.180000000000007)\n",
      "(2640, 4.8200000000000003, 95.180000000000007)\n",
      "(2641, 4.8200000000000003, 95.180000000000007)\n",
      "(2642, 4.8200000000000003, 95.180000000000007)\n",
      "(2643, 4.8200000000000003, 95.180000000000007)\n",
      "(2644, 4.8200000000000003, 95.180000000000007)\n",
      "(2645, 4.8200000000000003, 95.180000000000007)\n",
      "(2646, 4.8200000000000003, 95.180000000000007)\n",
      "(2647, 4.8200000000000003, 95.180000000000007)\n",
      "(2648, 4.8200000000000003, 95.180000000000007)\n",
      "(2649, 4.8200000000000003, 95.180000000000007)\n",
      "(2650, 4.8200000000000003, 95.180000000000007)\n",
      "(2651, 4.8300000000000001, 95.170000000000002)\n",
      "(2652, 4.8300000000000001, 95.170000000000002)\n",
      "(2653, 4.8300000000000001, 95.170000000000002)\n",
      "(2654, 4.8300000000000001, 95.170000000000002)\n",
      "(2655, 4.8300000000000001, 95.170000000000002)\n",
      "(2656, 4.8300000000000001, 95.170000000000002)\n",
      "(2657, 4.8300000000000001, 95.170000000000002)\n",
      "(2658, 4.8300000000000001, 95.170000000000002)\n",
      "(2659, 4.8300000000000001, 95.170000000000002)\n"
     ]
    }
   ],
   "source": [
    "## Consider 2610 to 2660 in steps of 1\n",
    "for c in np.arange(2610,2660,1):\n",
    "    print classifier(c,validation_set, validation_label)"
   ]
  },
  {
   "cell_type": "code",
   "execution_count": 13,
   "metadata": {
    "collapsed": false
   },
   "outputs": [
    {
     "name": "stdout",
     "output_type": "stream",
     "text": [
      "(2613, 4.8200000000000003, 95.180000000000007)\n"
     ]
    }
   ],
   "source": [
    "## Test the the optimum smoothing value on validation set\n",
    "print classifier(2613,validation_set, validation_label)"
   ]
  },
  {
   "cell_type": "markdown",
   "metadata": {},
   "source": [
    "### Apply the best smoothing factor on the test data set and calculate the accuracy"
   ]
  },
  {
   "cell_type": "code",
   "execution_count": 14,
   "metadata": {
    "collapsed": false
   },
   "outputs": [
    {
     "name": "stdout",
     "output_type": "stream",
     "text": [
      "(2613, 4.3099999999999996, 95.689999999999998)\n"
     ]
    }
   ],
   "source": [
    "## Apply the classifier on the test data to understand the accuracy\n",
    "print classifier(2613,test_images, test_labels)"
   ]
  },
  {
   "cell_type": "markdown",
   "metadata": {},
   "source": [
    "### Display a few misclassified digits and their posterior probabilities"
   ]
  },
  {
   "cell_type": "code",
   "execution_count": 75,
   "metadata": {
    "collapsed": false
   },
   "outputs": [],
   "source": [
    "## Modify the function to get the misclassified digits\n",
    "def classifier2(c,data_set,label_set):\n",
    "    label = []\n",
    "    pd = []\n",
    "    for i in range(0,10):\n",
    "        priors = len(train_set[np.where(train_label==i)])/float(len(train_set))\n",
    "        Mean = train_set[np.where(train_label==i)].mean(0)\n",
    "        Cov = np.cov((train_set[np.where(train_label==i)]).T)\n",
    "        Cov = Cov + (c*np.identity(784))\n",
    "        px = multivariate_normal(mean=Mean, cov=Cov) \n",
    "        pd.append(np.log(priors) + px.logpdf(data_set))\n",
    "    max_prob = np.argmax(pd, axis = 0)\n",
    "    output = zip(max_prob, label_set)\n",
    "    return output"
   ]
  },
  {
   "cell_type": "code",
   "execution_count": 83,
   "metadata": {
    "collapsed": false
   },
   "outputs": [
    {
     "data": {
      "image/png": "[encoded data removed]",
      "text/plain": [
       "<matplotlib.figure.Figure at 0x11534d850>"
      ]
     },
     "metadata": {},
     "output_type": "display_data"
    }
   ],
   "source": [
    "## Disply 5 misclassified digits\n",
    "get_error = classifier2(2613,test_images, test_labels)\n",
    "indexes = [i for i,x in enumerate(get_error) if x[0]!=x[1]]\n",
    "\n",
    "plt.figure(figsize=(8,5))\n",
    "error = [x[0] for x in get_error if x[0]!=x[1]][:5]\n",
    "for i in range(0,5):    \n",
    "    j=i+1\n",
    "    plt.subplot(1,5,j)\n",
    "    displaychar(test_images[indexes][i])\n",
    "    plt.title('Classified as: %i' %error[i],fontsize = 10)"
   ]
  },
  {
   "cell_type": "code",
   "execution_count": 77,
   "metadata": {
    "collapsed": false
   },
   "outputs": [],
   "source": [
    "## Modify the function to get the posterior probabilites\n",
    "def classifier3(c,data_set,label_set):\n",
    "    label = []\n",
    "    pd = []\n",
    "    for i in range(0,10):\n",
    "        priors = len(train_set[np.where(train_label==i)])/float(len(train_set))\n",
    "        Mean = train_set[np.where(train_label==i)].mean(0)\n",
    "        Cov = np.cov((train_set[np.where(train_label==i)]).T)\n",
    "        Cov = Cov + (c*np.identity(784))\n",
    "        px = multivariate_normal(mean=Mean, cov=Cov) \n",
    "        pd.append(np.log(priors) + px.logpdf(data_set))\n",
    "    return pd"
   ]
  },
  {
   "cell_type": "code",
   "execution_count": 115,
   "metadata": {
    "collapsed": false
   },
   "outputs": [
    {
     "data": {
      "text/html": [
       "<div>\n",
       "<table border=\"1\" class=\"dataframe\">\n",
       "  <thead>\n",
       "    <tr style=\"text-align: right;\">\n",
       "      <th></th>\n",
       "      <th>7</th>\n",
       "      <th>9</th>\n",
       "      <th>1</th>\n",
       "      <th>8</th>\n",
       "      <th>1</th>\n",
       "    </tr>\n",
       "  </thead>\n",
       "  <tbody>\n",
       "    <tr>\n",
       "      <th>0</th>\n",
       "      <td>-4117.430362</td>\n",
       "      <td>-4146.336160</td>\n",
       "      <td>-4085.897114</td>\n",
       "      <td>-4175.782530</td>\n",
       "      <td>-4038.433573</td>\n",
       "    </tr>\n",
       "    <tr>\n",
       "      <th>1</th>\n",
       "      <td>-4093.636764</td>\n",
       "      <td>-4209.643728</td>\n",
       "      <td>-3944.258061</td>\n",
       "      <td>-4508.859618</td>\n",
       "      <td>-3939.713184</td>\n",
       "    </tr>\n",
       "    <tr>\n",
       "      <th>2</th>\n",
       "      <td>-4064.229417</td>\n",
       "      <td>-4127.645399</td>\n",
       "      <td>-4012.276470</td>\n",
       "      <td>-4123.686823</td>\n",
       "      <td>-4016.491972</td>\n",
       "    </tr>\n",
       "    <tr>\n",
       "      <th>3</th>\n",
       "      <td>-4055.283783</td>\n",
       "      <td>-4081.336775</td>\n",
       "      <td>-4025.623356</td>\n",
       "      <td>-4118.177712</td>\n",
       "      <td>-4006.003211</td>\n",
       "    </tr>\n",
       "    <tr>\n",
       "      <th>4</th>\n",
       "      <td>-4049.941278</td>\n",
       "      <td>-4019.943563</td>\n",
       "      <td>-3997.440303</td>\n",
       "      <td>-4136.515091</td>\n",
       "      <td>-3979.879773</td>\n",
       "    </tr>\n",
       "    <tr>\n",
       "      <th>5</th>\n",
       "      <td>-4094.544227</td>\n",
       "      <td>-4068.892838</td>\n",
       "      <td>-4062.439011</td>\n",
       "      <td>-4121.957813</td>\n",
       "      <td>-4024.308730</td>\n",
       "    </tr>\n",
       "    <tr>\n",
       "      <th>6</th>\n",
       "      <td>-4204.697137</td>\n",
       "      <td>-4213.617167</td>\n",
       "      <td>-4106.876718</td>\n",
       "      <td>-4302.838998</td>\n",
       "      <td>-4045.429547</td>\n",
       "    </tr>\n",
       "    <tr>\n",
       "      <th>7</th>\n",
       "      <td>-3980.364376</td>\n",
       "      <td>-3978.539522</td>\n",
       "      <td>-3953.658101</td>\n",
       "      <td>-4229.448893</td>\n",
       "      <td>-3948.761389</td>\n",
       "    </tr>\n",
       "    <tr>\n",
       "      <th>8</th>\n",
       "      <td>-4012.334025</td>\n",
       "      <td>-4066.604205</td>\n",
       "      <td>-3987.437770</td>\n",
       "      <td>-4087.108364</td>\n",
       "      <td>-3992.723826</td>\n",
       "    </tr>\n",
       "    <tr>\n",
       "      <th>9</th>\n",
       "      <td>-3986.706096</td>\n",
       "      <td>-3976.656389</td>\n",
       "      <td>-3978.935285</td>\n",
       "      <td>-4118.596574</td>\n",
       "      <td>-3950.305978</td>\n",
       "    </tr>\n",
       "  </tbody>\n",
       "</table>\n",
       "</div>"
      ],
      "text/plain": [
       "             7            9            1            8            1\n",
       "0 -4117.430362 -4146.336160 -4085.897114 -4175.782530 -4038.433573\n",
       "1 -4093.636764 -4209.643728 -3944.258061 -4508.859618 -3939.713184\n",
       "2 -4064.229417 -4127.645399 -4012.276470 -4123.686823 -4016.491972\n",
       "3 -4055.283783 -4081.336775 -4025.623356 -4118.177712 -4006.003211\n",
       "4 -4049.941278 -4019.943563 -3997.440303 -4136.515091 -3979.879773\n",
       "5 -4094.544227 -4068.892838 -4062.439011 -4121.957813 -4024.308730\n",
       "6 -4204.697137 -4213.617167 -4106.876718 -4302.838998 -4045.429547\n",
       "7 -3980.364376 -3978.539522 -3953.658101 -4229.448893 -3948.761389\n",
       "8 -4012.334025 -4066.604205 -3987.437770 -4087.108364 -3992.723826\n",
       "9 -3986.706096 -3976.656389 -3978.935285 -4118.596574 -3950.305978"
      ]
     },
     "execution_count": 115,
     "metadata": {},
     "output_type": "execute_result"
    }
   ],
   "source": [
    "## Display posterior probabilities\n",
    "probabilities = classifier3(2613,test_images, test_labels)\n",
    "probabilities2 = np.vstack(probabilities).T ## Convert to np array\n",
    "probabilities3 = probabilities2[indexes][:5].T ## Get the 5 misclassified numbers\n",
    "posterior = pd.DataFrame(probabilities3)\n",
    "posterior.columns = error\n",
    "posterior"
   ]
  }
 ],
 "metadata": {
  "kernelspec": {
   "display_name": "Python 2",
   "language": "python",
   "name": "python2"
  },
  "language_info": {
   "codemirror_mode": {
    "name": "ipython",
    "version": 2
   },
   "file_extension": ".py",
   "mimetype": "text/x-python",
   "name": "python",
   "nbconvert_exporter": "python",
   "pygments_lexer": "ipython2",
   "version": "2.7.10"
  }
 },
 "nbformat": 4,
 "nbformat_minor": 0
}
